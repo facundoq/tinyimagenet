{
 "cells": [
  {
   "cell_type": "code",
   "execution_count": null,
   "metadata": {},
   "outputs": [],
   "source": [
    "!pip install tinyimagenet\n",
    "!pip install torchvision\n",
    "!pip install seaborn\n",
    "!pip install torchmetrics\n",
    "!pip install poutyne\n",
    "\n",
    "from tinyimagenet import TinyImageNet\n",
    "from pathlib import Path\n",
    "\n",
    "import torch\n",
    "\n",
    "import torchvision.models as models\n",
    "\n"
   ]
  },
  {
   "cell_type": "code",
   "execution_count": null,
   "metadata": {},
   "outputs": [],
   "source": [
    "\n",
    "import torchvision\n",
    "\n",
    "\n",
    "weights = torchvision.models.EfficientNet_V2_S_Weights.IMAGENET1K_V1\n",
    "base_model = torchvision.models.efficientnet_v2_s(weights=weights)\n",
    "\n",
    "model = torch.nn.Sequential(\n",
    "    torchvision.transforms.Normalize(TinyImageNet.mean,TinyImageNet.std),\n",
    "    base_model\n",
    "\n",
    ")"
   ]
  },
  {
   "cell_type": "code",
   "execution_count": null,
   "metadata": {},
   "outputs": [],
   "source": [
    "import poutyne \n",
    "from torch.utils.data import DataLoader\n",
    "\n",
    "\n",
    "def eval(model,dataloader,device):\n",
    "\n",
    "    poutyne_model = poutyne.Model(\n",
    "        model,\n",
    "        'sgd',\n",
    "        'cross_entropy',\n",
    "        batch_metrics=['accuracy',poutyne.TopKAccuracy(5)],\n",
    "        epoch_metrics=['f1'],\n",
    "        device=device\n",
    "    )\n",
    "    poutyne_model.evaluate_generator(dataloader)\n",
    "\n",
    "splits = [\"val\",\"train\"]\n",
    "\n",
    "for split in splits:\n",
    "    dataset = TinyImageNet(Path(\"~/.torchvision/tinyimagenet/\"),split=split,imagenet_idx=True)\n",
    "    dataloader = DataLoader(dataset, batch_size=32)\n",
    "\n",
    "    print(dataset)\n",
    "    eval(model,dataloader,torch.device(\"cuda\"))\n",
    "       "
   ]
  },
  {
   "cell_type": "code",
   "execution_count": null,
   "metadata": {},
   "outputs": [],
   "source": []
  }
 ],
 "metadata": {
  "kernelspec": {
   "display_name": "tinyimagenet",
   "language": "python",
   "name": "python3"
  },
  "language_info": {
   "codemirror_mode": {
    "name": "ipython",
    "version": 3
   },
   "file_extension": ".py",
   "mimetype": "text/x-python",
   "name": "python",
   "nbconvert_exporter": "python",
   "pygments_lexer": "ipython3",
   "version": "3.10.12"
  }
 },
 "nbformat": 4,
 "nbformat_minor": 2
}
