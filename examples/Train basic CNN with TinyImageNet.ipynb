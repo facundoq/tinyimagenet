{
 "cells": [
  {
   "cell_type": "code",
   "execution_count": null,
   "metadata": {},
   "outputs": [],
   "source": [
    "!pip install tinyimagenet\n",
    "!pip install torchvision\n",
    "!pip install seaborn\n",
    "!pip install torchmetrics\n",
    "!pip install poutyne"
   ]
  },
  {
   "cell_type": "code",
   "execution_count": null,
   "metadata": {},
   "outputs": [],
   "source": [
    "from tinyimagenet import TinyImageNet\n",
    "from pathlib import Path\n",
    "import torch\n",
    "from torchvision import models"
   ]
  },
  {
   "cell_type": "code",
   "execution_count": null,
   "metadata": {},
   "outputs": [],
   "source": [
    "from torch import nn\n",
    "import torchvision\n",
    "\n",
    "\n",
    "def block(f_in,f_out,kernel_size=(3,3),padding=1):\n",
    "    return torch.nn.Sequential(\n",
    "        nn.Conv2d(f_in, f_out, kernel_size, padding=padding),\n",
    "        nn.ReLU(),\n",
    "        nn.BatchNorm2d(f_out),\n",
    "        nn.MaxPool2d(2),\n",
    "    )\n",
    "\n",
    "\n",
    "classes = 200\n",
    "channels = 3\n",
    "\n",
    "f= 128\n",
    "fc = 1024\n",
    "\n",
    "conv = torch.nn.Sequential(\n",
    "    nn.Conv2d(channels, f, (5,5), stride=(2,2), padding=3),\n",
    "    nn.ReLU(),\n",
    "    block(f,f), #32x32\n",
    "    block(f,2*f), #16x16\n",
    "    block(2*f,4*f), #8x8\n",
    "    block(4*f,8*f), #4x4\n",
    ")\n",
    "pixels = (64*64) / (2 * (2**5))\n",
    "linear_size= pixels*8*f\n",
    "\n",
    "model = torch.nn.Sequential(\n",
    "    torchvision.transforms.Normalize(TinyImageNet.mean,TinyImageNet.std),\n",
    "    conv,\n",
    "    nn.Flatten(),\n",
    "    nn.Linear(linear_size, fc),\n",
    "    nn.BatchNorm1d(fc),\n",
    "    nn.Linear(fc, classes),\n",
    ")\n",
    "print(model)\n"
   ]
  },
  {
   "cell_type": "code",
   "execution_count": null,
   "metadata": {},
   "outputs": [],
   "source": [
    "import poutyne\n",
    "\n",
    "\n",
    "device = torch.device(\"cuda\")\n",
    "def get_dataset(split): return TinyImageNet(Path(\"~/.torchvision/tinyimagenet/\"),split=split,imagenet_idx=False)\n",
    "\n",
    "train_dataset = get_dataset(\"train\")\n",
    "val_dataset = get_dataset(\"val\")\n",
    "\n",
    "\n",
    "trainer = poutyne.Model(\n",
    "        model,\n",
    "        'sgd',\n",
    "        'cross_entropy',\n",
    "        batch_metrics=['accuracy',poutyne.TopKAccuracy(5)],\n",
    "        epoch_metrics=['accuracy'],\n",
    "        device=device\n",
    ")\n",
    "\n",
    "\n",
    "trainer.fit_dataset(train_dataset,valid_dataset=val_dataset,batch_size=8,epochs=5)"
   ]
  },
  {
   "cell_type": "code",
   "execution_count": null,
   "metadata": {},
   "outputs": [],
   "source": []
  }
 ],
 "metadata": {
  "kernelspec": {
   "display_name": "tinyimagenet",
   "language": "python",
   "name": "python3"
  },
  "language_info": {
   "codemirror_mode": {
    "name": "ipython",
    "version": 3
   },
   "file_extension": ".py",
   "mimetype": "text/x-python",
   "name": "python",
   "nbconvert_exporter": "python",
   "pygments_lexer": "ipython3",
   "version": "3.10.12"
  }
 },
 "nbformat": 4,
 "nbformat_minor": 2
}
