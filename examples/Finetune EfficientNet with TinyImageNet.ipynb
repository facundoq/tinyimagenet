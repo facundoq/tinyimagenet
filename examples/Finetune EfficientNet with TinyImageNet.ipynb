{
 "cells": [
  {
   "cell_type": "code",
   "execution_count": null,
   "metadata": {},
   "outputs": [],
   "source": [
    "!pip install tinyimagenet\n",
    "!pip install torchvision\n",
    "!pip install seaborn\n",
    "!pip install torchmetrics\n",
    "!pip install poutyne\n",
    "\n",
    "from tinyimagenet import TinyImageNet\n",
    "from pathlib import Path\n",
    "import torch\n",
    "from torchvision import models"
   ]
  },
  {
   "cell_type": "code",
   "execution_count": null,
   "metadata": {},
   "outputs": [],
   "source": [
    "\n",
    "\n",
    "weights = models.EfficientNet_V2_S_Weights.IMAGENET1K_V1\n",
    "base_model = models.efficientnet_v2_s(weights=weights)\n",
    "# freeze base model\n",
    "for param in base_model.parameters():\n",
    "    param.requires_grad = False\n",
    "\n",
    "# add new classification head\n",
    "tinyimagenet_classes = 200\n",
    "base_model.classifier = torch.nn.Sequential(\n",
    "    torch.nn.Dropout(p=0.2,inplace=True),\n",
    "    torch.nn.Linear(1280, tinyimagenet_classes),\n",
    ")\n",
    "\n",
    "# add normalization transforms\n",
    "model = torch.nn.Sequential(\n",
    "    weights.transforms(),\n",
    "    base_model,\n",
    "    \n",
    ")\n",
    "print(base_model)"
   ]
  },
  {
   "cell_type": "code",
   "execution_count": null,
   "metadata": {},
   "outputs": [],
   "source": [
    "import poutyne\n",
    "\n",
    "\n",
    "device = torch.device(\"cuda\")\n",
    "def get_dataset(split): return TinyImageNet(Path(\"~/.torchvision/tinyimagenet/\"),split=split,imagenet_idx=False)\n",
    "\n",
    "train_dataset = get_dataset(\"train\")\n",
    "val_dataset = get_dataset(\"val\")\n",
    "\n",
    "\n",
    "trainer = poutyne.Model(\n",
    "        model,\n",
    "        'adam',\n",
    "        'cross_entropy',\n",
    "        batch_metrics=['accuracy',poutyne.TopKAccuracy(5)],\n",
    "        epoch_metrics=['f1'],\n",
    "        device=device\n",
    ")\n",
    "\n",
    "\n",
    "trainer.fit_dataset(train_dataset,valid_dataset=val_dataset,batch_size=32,epochs=5)"
   ]
  },
  {
   "cell_type": "code",
   "execution_count": null,
   "metadata": {},
   "outputs": [],
   "source": []
  }
 ],
 "metadata": {
  "kernelspec": {
   "display_name": "tinyimagenet",
   "language": "python",
   "name": "python3"
  },
  "language_info": {
   "codemirror_mode": {
    "name": "ipython",
    "version": 3
   },
   "file_extension": ".py",
   "mimetype": "text/x-python",
   "name": "python",
   "nbconvert_exporter": "python",
   "pygments_lexer": "ipython3",
   "version": "3.10.12"
  }
 },
 "nbformat": 4,
 "nbformat_minor": 2
}
